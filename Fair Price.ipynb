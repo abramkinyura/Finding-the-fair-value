{
 "cells": [
  {
   "cell_type": "markdown",
   "metadata": {
    "collapsed": false
   },
   "source": [
    "# Building yield curves from market data"
   ]
  },
  {
   "cell_type": "code",
   "execution_count": 1,
   "metadata": {
    "collapsed": true
   },
   "outputs": [
   ],
   "source": [
    "import numpy as np\n",
    "import collections\n",
    "import matplotlib.pyplot as plt\n",
    "import scipy.interpolate"
   ]
  },
  {
   "cell_type": "code",
   "execution_count": 2,
   "metadata": {
    "collapsed": true
   },
   "outputs": [
   ],
   "source": [
    "class Bond:\n",
    "    principal = 0.\n",
    "    maturity = 1\n",
    "    coupon = 0.\n",
    "    fixings = []\n",
    "    price = 0.\n",
    "    def __init__(self, price, princ, mat, coup, fix):\n",
    "        self.principal = princ\n",
    "        self.coupon = coup\n",
    "        self.fixings = fix\n",
    "        self.maturity = mat\n",
    "        self.price = price"
   ]
  },
  {
   "cell_type": "markdown",
   "metadata": {
    "collapsed": false
   },
   "source": [
    "## USD bonds market data"
   ]
  },
  {
   "cell_type": "code",
   "execution_count": 3,
   "metadata": {
    "collapsed": false
   },
   "outputs": [
   ],
   "source": [
    "bonds = [Bond(98.16, 100, 14, 0, []), \n",
    "         Bond(95.58, 100, 30, 5, [14]), \n",
    "         Bond(91.24, 100, 45, 5, [14, 30]), \n",
    "         Bond(87.29, 100, 60, 5, [14, 30, 45]), \n",
    "         Bond(68.12, 100, 90, 5, [30, 60])]"
   ]
  },
  {
   "cell_type": "markdown",
   "metadata": {
    "collapsed": false
   },
   "source": [
    "$$PV_{bond} = \\Sigma_{1}^{n} N_{coupon}*e^{-r_{USD}^it_i} + N_{principal}*e^{- r_{USD}^nT_n}$$"
   ]
  },
  {
   "cell_type": "markdown",
   "metadata": {
    "collapsed": false
   },
   "source": [
    "$$PV_{Zero Coupon Bond} = N_{principal}*e^{- r_{USD}T}$$"
   ]
  },
  {
   "cell_type": "markdown",
   "metadata": {
    "collapsed": false
   },
   "source": [
    "$$r_{USD} = -\\frac{ln(\\frac{PV_{Zero Coupon Bond}}{N_{principal}})}{T}$$"
   ]
  },
  {
   "cell_type": "markdown",
   "metadata": {
    "collapsed": false
   },
   "source": [
    "## Bootstrapping"
   ]
  },
  {
   "cell_type": "code",
   "execution_count": 4,
   "metadata": {
    "collapsed": true
   },
   "outputs": [
   ],
   "source": [
    "def yield_usd(zc_bond_price, principal, t):\n",
    "    return - np.log(zc_bond_price / principal) / t"
   ]
  },
  {
   "cell_type": "code",
   "execution_count": 5,
   "metadata": {
    "collapsed": true
   },
   "outputs": [
   ],
   "source": [
    "usd_rates = {}"
   ]
  },
  {
   "cell_type": "markdown",
   "metadata": {
    "collapsed": false
   },
   "source": [
    "convert to zero coupon\n",
    "$$PV_{bond} - \\Sigma_{i=1}^{n-1} N_{coupon}*e^{-r_{USD}^iT_i} = N_{principal}*e^{- r_{USD}^nT_n}$$"
   ]
  },
  {
   "cell_type": "code",
   "execution_count": 6,
   "metadata": {
    "collapsed": true
   },
   "outputs": [
   ],
   "source": [
    "def to_zero_coupon_price(bond):\n",
    "    price = bond.price\n",
    "    for f in bond.fixings:\n",
    "        price -= bond.coupon * np.exp(- usd_rates[f] * f / 360.)\n",
    "    return price"
   ]
  },
  {
   "cell_type": "markdown",
   "metadata": {
    "collapsed": false
   },
   "source": [
    "$$PV_{bond} = N_{coupon}*e^{-r_{USD}^1T_1} + N_{principal}*e^{- r_{USD}^2T_2}$$"
   ]
  },
  {
   "cell_type": "code",
   "execution_count": 7,
   "metadata": {
    "collapsed": false
   },
   "outputs": [
   ],
   "source": [
    "for bond in bonds:\n",
    "    usd_rates[bond.maturity] = yield_usd(to_zero_coupon_price(bond), \n",
    "                                         bond.principal, \n",
    "                                         bond.maturity / 360.)"
   ]
  },
  {
   "cell_type": "code",
   "execution_count": 8,
   "metadata": {
    "collapsed": false
   },
   "outputs": [
   ],
   "source": [
    "sorted_usd_rates = collections.OrderedDict(sorted(\n",
    "        map(lambda (k,v): (k,v), usd_rates.iteritems())))"
   ]
  },
  {
   "cell_type": "code",
   "execution_count": 9,
   "metadata": {
    "collapsed": false
   },
   "outputs": [
    {
     "data": {
      "text/plain": [
       "[<matplotlib.lines.Line2D at 0x7f2a781194d0>]"
      ]
     },
     "execution_count": 9,
     "metadata": {
     },
     "output_type": "execute_result"
    },
    {
     "data": {
      "image/png": "[encoded data removed]"
     },
     "execution_count": 9,
     "metadata": {
     },
     "output_type": "execute_result"
    }
   ],
   "source": [
    "plt.title('USD yield curve')\n",
    "plt.xlabel('days')\n",
    "plt.ylabel('usd_rate')\n",
    "plt.plot(sorted_usd_rates.keys(), sorted_usd_rates.values())"
   ]
  },
  {
   "cell_type": "markdown",
   "metadata": {
    "collapsed": false
   },
   "source": [
    "## Interpolation of USD curve"
   ]
  },
  {
   "cell_type": "code",
   "execution_count": 20,
   "metadata": {
    "collapsed": false
   },
   "outputs": [
   ],
   "source": [
    "usd_yield_curve = scipy.interpolate.interp1d(sorted_usd_rates.keys(), \n",
    "                                             sorted_usd_rates.values())"
   ]
  },
  {
   "cell_type": "markdown",
   "metadata": {
    "collapsed": false
   },
   "source": [
    "$$F=Se^{(r_{EUR}-r_{USD})t}$$"
   ]
  },
  {
   "cell_type": "markdown",
   "metadata": {
    "collapsed": false
   },
   "source": [
    "$$r_{EUR} = r_{USD} + \\frac{ln(\\frac{F}{S})}{t}$$"
   ]
  },
  {
   "cell_type": "code",
   "execution_count": 11,
   "metadata": {
    "collapsed": true
   },
   "outputs": [
   ],
   "source": [
    "def yield_eur(fut_price, spt_price, t, yield_usd):\n",
    "    return yield_usd + np.log(fut_price / spt_price) / t"
   ]
  },
  {
   "cell_type": "markdown",
   "metadata": {
    "collapsed": false
   },
   "source": [
    "## FxFutures market data"
   ]
  },
  {
   "cell_type": "code",
   "execution_count": 12,
   "metadata": {
    "collapsed": true
   },
   "outputs": [
   ],
   "source": [
    "futures_prices = {15:1.10375, 30:1.1057, 45:1.1061, 60:1.1063, 72:1.1069, 85:1.107}\n",
    "spot = 1.1004"
   ]
  },
  {
   "cell_type": "markdown",
   "metadata": {
    "collapsed": false
   },
   "source": [
    "## Interpolation of EUR curve"
   ]
  },
  {
   "cell_type": "code",
   "execution_count": 13,
   "metadata": {
    "collapsed": false
   },
   "outputs": [
   ],
   "source": [
    "eur_rates = collections.OrderedDict(sorted(\n",
    "        map(lambda (tenor, price): \n",
    "            (tenor, yield_eur(price, spot, tenor / 360., usd_yield_curve(tenor))), \n",
    "            futures_prices.iteritems())))"
   ]
  },
  {
   "cell_type": "code",
   "execution_count": 14,
   "metadata": {
    "collapsed": false
   },
   "outputs": [
    {
     "data": {
      "text/plain": [
       "[<matplotlib.lines.Line2D at 0x7f2a687922d0>]"
      ]
     },
     "execution_count": 14,
     "metadata": {
     },
     "output_type": "execute_result"
    },
    {
     "data": {
      "image/png": "[encoded data removed]"
     },
     "execution_count": 14,
     "metadata": {
     },
     "output_type": "execute_result"
    }
   ],
   "source": [
    "plt.title('EUR yield curve')\n",
    "plt.xlabel('days')\n",
    "plt.ylabel('eur_rate')\n",
    "plt.plot(eur_rates.keys(), eur_rates.values())"
   ]
  },
  {
   "cell_type": "code",
   "execution_count": 15,
   "metadata": {
    "collapsed": false
   },
   "outputs": [
   ],
   "source": [
    "eur_yield_curve = scipy.interpolate.interp1d(eur_rates.keys(), eur_rates.values())"
   ]
  },
  {
   "cell_type": "code",
   "execution_count": 16,
   "metadata": {
    "collapsed": false
   },
   "outputs": [
    {
     "data": {
      "text/plain": [
       "[<matplotlib.lines.Line2D at 0x7f2a686acbd0>]"
      ]
     },
     "execution_count": 16,
     "metadata": {
     },
     "output_type": "execute_result"
    },
    {
     "data": {
      "image/png": "[encoded data removed]"
     },
     "execution_count": 16,
     "metadata": {
     },
     "output_type": "execute_result"
    }
   ],
   "source": [
    "x = np.linspace(16, 84, num=100, endpoint=True)\n",
    "plt.title('Yield difference')\n",
    "plt.xlabel('days')\n",
    "plt.ylabel('eur_rate - usd_rate')\n",
    "plt.plot(x, eur_yield_curve(x) - usd_yield_curve(x))"
   ]
  },
  {
   "cell_type": "markdown",
   "metadata": {
    "collapsed": false
   },
   "source": [
    "## Pricing forward"
   ]
  },
  {
   "cell_type": "markdown",
   "metadata": {
    "collapsed": false
   },
   "source": [
    "$$F = S e^{(r_{EUR} - r_{USD}) t}$$"
   ]
  },
  {
   "cell_type": "code",
   "execution_count": 17,
   "metadata": {
    "collapsed": false
   },
   "outputs": [
   ],
   "source": [
    "def forward_price(spt_price, usd_rate, eur_rate, t):\n",
    "    return spt_price * np.exp((eur_rate - usd_rate) * t)"
   ]
  },
  {
   "cell_type": "code",
   "execution_count": 18,
   "metadata": {
    "collapsed": false
   },
   "outputs": [
    {
     "name": "stdout",
     "output_type": "stream",
     "text": [
      "1.10607389738\n"
     ]
    }
   ],
   "source": [
    "print forward_price(spot, usd_yield_curve(37), eur_yield_curve(37), 37. / 360.)"
   ]
  },
  {
   "cell_type": "code",
   "execution_count": 19,
   "metadata": {
    "collapsed": false
   },
   "outputs": [
   ],
   "source": [
   ]
  },
  {
   "cell_type": "code",
   "execution_count": 0,
   "metadata": {
    "collapsed": true
   },
   "outputs": [
   ],
   "source": [
   ]
  }
 ],
 "metadata": {
  "kernelspec": {
   "display_name": "Python 2 (SageMath)",
   "language": "python",
   "name": "python2"
  },
  "language_info": {
   "codemirror_mode": {
    "name": "ipython",
    "version": 2
   },
   "file_extension": ".py",
   "mimetype": "text/x-python",
   "name": "python",
   "nbconvert_exporter": "python",
   "pygments_lexer": "ipython2",
   "version": "2.7.13"
  },
  "name": "bootstrapping.ipynb"
 },
 "nbformat": 4,
 "nbformat_minor": 0
}